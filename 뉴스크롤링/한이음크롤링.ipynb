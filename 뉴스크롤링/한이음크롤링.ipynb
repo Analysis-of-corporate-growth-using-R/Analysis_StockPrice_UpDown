{
 "cells": [
  {
   "cell_type": "code",
   "execution_count": 166,
   "metadata": {},
   "outputs": [
    {
     "data": {
      "text/plain": [
       "'/Users/jinseokryu'"
      ]
     },
     "execution_count": 166,
     "metadata": {},
     "output_type": "execute_result"
    }
   ],
   "source": [
    "import os\n",
    "os.getcwd()"
   ]
  },
  {
   "cell_type": "code",
   "execution_count": 167,
   "metadata": {},
   "outputs": [],
   "source": [
    "# %load ../standard_import.txt\n",
    "import pandas as pd\n",
    "import numpy as np\n",
    "import matplotlib.pyplot as plt\n",
    "import seaborn as sns\n",
    "\n",
    "import csv\n",
    "from datetime import datetime\n",
    "\n",
    "from sklearn.preprocessing import PolynomialFeatures\n",
    "import statsmodels.api as sm\n",
    "import statsmodels.formula.api as smf\n",
    "from patsy import dmatrix"
   ]
  },
  {
   "cell_type": "code",
   "execution_count": 168,
   "metadata": {
    "collapsed": true
   },
   "outputs": [],
   "source": [
    "df = pd.read_csv('/users/jinseokryu/newscrawling1/newsCrawl1.csv')"
   ]
  },
  {
   "cell_type": "code",
   "execution_count": 169,
   "metadata": {
    "scrolled": true
   },
   "outputs": [],
   "source": [
    "df=pd.DataFrame(df)\n",
    "#592개 중에서 586개 크롤링 가능"
   ]
  },
  {
   "cell_type": "code",
   "execution_count": 170,
   "metadata": {},
   "outputs": [
    {
     "data": {
      "text/plain": [
       "0    \\r\\n\\t\\t\\t\\t,\\r\\n\\t\\t\\t\\t\\r\\n\\t\\t\\t\\t\\t\\t\\t,\\r...\n",
       "1    \\r\\n\\t\\t\\t\\t,\\r\\n\\t\\t\\t\\t\\r\\n\\t\\t\\t\\t\\t\\t,\\r\\n...\n",
       "2    \\r\\n\\t\\t\\t\\t,\\r\\n\\t\\t\\t\\t\\r\\n\\t\\t\\t\\t\\t\\t\\t,\\r...\n",
       "3    \\r\\n\\t\\t\\t\\t,\\r\\n\\t\\t\\t\\t탈모방지에 도움을 주는 스테디셀러 TS...\n",
       "4    \\n                    ,가 5거래일째 급등하며 시가총액 8위로 올...\n",
       "Name: article, dtype: object"
      ]
     },
     "execution_count": 170,
     "metadata": {},
     "output_type": "execute_result"
    }
   ],
   "source": [
    "df['article'].head()"
   ]
  },
  {
   "cell_type": "code",
   "execution_count": 172,
   "metadata": {},
   "outputs": [],
   "source": [
    "for i in range(np.shape(df)[0]):\n",
    "    try:\n",
    "        df['article'][i]=df['article'][i].replace(\"\\r\",\"\").replace(\"\\t\",\"\").replace(\"\\n\",\"\").replace(\",\",\"\").lstrip().rstrip()\n",
    "        df['title'][i]=df['title'][i].replace(\",\",\"\").lstrip().rstrip()\n",
    "        \n",
    "    except:\n",
    "        print(i)"
   ]
  },
  {
   "cell_type": "code",
   "execution_count": 173,
   "metadata": {
    "collapsed": true
   },
   "outputs": [],
   "source": [
    "for i in range(np.shape(df)[0]):\n",
    "    df['url'][i]=df['url'][i][5:-1]"
   ]
  },
  {
   "cell_type": "code",
   "execution_count": 174,
   "metadata": {},
   "outputs": [
    {
     "data": {
      "text/plain": [
       "'http://news.hankyung.com/article/2017071626111'"
      ]
     },
     "execution_count": 174,
     "metadata": {},
     "output_type": "execute_result"
    }
   ],
   "source": [
    "df['url'][1]"
   ]
  },
  {
   "cell_type": "code",
   "execution_count": 175,
   "metadata": {},
   "outputs": [
    {
     "data": {
      "text/html": [
       "<div>\n",
       "<style>\n",
       "    .dataframe thead tr:only-child th {\n",
       "        text-align: right;\n",
       "    }\n",
       "\n",
       "    .dataframe thead th {\n",
       "        text-align: left;\n",
       "    }\n",
       "\n",
       "    .dataframe tbody tr th {\n",
       "        vertical-align: top;\n",
       "    }\n",
       "</style>\n",
       "<table border=\"1\" class=\"dataframe\">\n",
       "  <thead>\n",
       "    <tr style=\"text-align: right;\">\n",
       "      <th></th>\n",
       "      <th>date</th>\n",
       "      <th>article</th>\n",
       "      <th>url</th>\n",
       "      <th>title</th>\n",
       "    </tr>\n",
       "  </thead>\n",
       "  <tbody>\n",
       "    <tr>\n",
       "      <th>0</th>\n",
       "      <td>17-07-12</td>\n",
       "      <td>GS홈쇼핑은 코렐 비전 파이렉스 등의 식기 브랜드를 갖고 있는 기업 월드키친의 지분...</td>\n",
       "      <td>http://news.hankyung.com/article/2017071243241</td>\n",
       "      <td>GS홈쇼핑 식기 브랜드 '코렐' 지분 투자…아시아 주방용품 공략</td>\n",
       "    </tr>\n",
       "    <tr>\n",
       "      <th>1</th>\n",
       "      <td>17-07-16</td>\n",
       "      <td>물걸레 로봇청소기 에브리봇에는 바퀴가 없다. 대신 바닥에 달린 동그란 물걸레 두 개...</td>\n",
       "      <td>http://news.hankyung.com/article/2017071626111</td>\n",
       "      <td>물걸레 로봇청소기 '에브리봇' \"바퀴 없이 걸레에 하중 실어 청소실력 높였죠\"</td>\n",
       "    </tr>\n",
       "    <tr>\n",
       "      <th>2</th>\n",
       "      <td>17-06-30</td>\n",
       "      <td>청와대 참모진이 보유 주식을 매각한 것으로 나타났다. 1급 이상 고위공직자는 업무 ...</td>\n",
       "      <td>http://news.hankyung.com/article/2017063059131</td>\n",
       "      <td>청와대 참모들 보유주식 모두 매각…장하성 실장 54억 '최대'</td>\n",
       "    </tr>\n",
       "    <tr>\n",
       "      <th>3</th>\n",
       "      <td>17-07-14</td>\n",
       "      <td>탈모방지에 도움을 주는 스테디셀러 TS샴푸를 선보이는 탈모닷컴(대표 장기영)은 TS...</td>\n",
       "      <td>http://news.hankyung.com/article/201707149400a</td>\n",
       "      <td>탈모닷컴 TS샴푸 1000억원 판매와 100만 고객 돌파</td>\n",
       "    </tr>\n",
       "    <tr>\n",
       "      <th>4</th>\n",
       "      <td>17-07-19</td>\n",
       "      <td>가 5거래일째 급등하며 시가총액 8위로 올라섰다.19일 오전 9시7분 현재 는 전날...</td>\n",
       "      <td>http://stock.hankyung.com/news/app/newsview.ph...</td>\n",
       "      <td>나노스 어느새 시총 8위…닷새째 '급등'</td>\n",
       "    </tr>\n",
       "  </tbody>\n",
       "</table>\n",
       "</div>"
      ],
      "text/plain": [
       "       date                                            article  \\\n",
       "0  17-07-12  GS홈쇼핑은 코렐 비전 파이렉스 등의 식기 브랜드를 갖고 있는 기업 월드키친의 지분...   \n",
       "1  17-07-16  물걸레 로봇청소기 에브리봇에는 바퀴가 없다. 대신 바닥에 달린 동그란 물걸레 두 개...   \n",
       "2  17-06-30  청와대 참모진이 보유 주식을 매각한 것으로 나타났다. 1급 이상 고위공직자는 업무 ...   \n",
       "3  17-07-14  탈모방지에 도움을 주는 스테디셀러 TS샴푸를 선보이는 탈모닷컴(대표 장기영)은 TS...   \n",
       "4  17-07-19  가 5거래일째 급등하며 시가총액 8위로 올라섰다.19일 오전 9시7분 현재 는 전날...   \n",
       "\n",
       "                                                 url  \\\n",
       "0     http://news.hankyung.com/article/2017071243241   \n",
       "1     http://news.hankyung.com/article/2017071626111   \n",
       "2     http://news.hankyung.com/article/2017063059131   \n",
       "3     http://news.hankyung.com/article/201707149400a   \n",
       "4  http://stock.hankyung.com/news/app/newsview.ph...   \n",
       "\n",
       "                                         title  \n",
       "0          GS홈쇼핑 식기 브랜드 '코렐' 지분 투자…아시아 주방용품 공략  \n",
       "1  물걸레 로봇청소기 '에브리봇' \"바퀴 없이 걸레에 하중 실어 청소실력 높였죠\"  \n",
       "2           청와대 참모들 보유주식 모두 매각…장하성 실장 54억 '최대'  \n",
       "3              탈모닷컴 TS샴푸 1000억원 판매와 100만 고객 돌파  \n",
       "4                       나노스 어느새 시총 8위…닷새째 '급등'  "
      ]
     },
     "execution_count": 175,
     "metadata": {},
     "output_type": "execute_result"
    }
   ],
   "source": [
    "df.head()"
   ]
  },
  {
   "cell_type": "code",
   "execution_count": 176,
   "metadata": {},
   "outputs": [],
   "source": [
    "data=pd.DataFrame(df, columns=['url','date','title','article'])"
   ]
  },
  {
   "cell_type": "code",
   "execution_count": 177,
   "metadata": {},
   "outputs": [],
   "source": [
    "data.to_csv(\"/users/jinseokryu/newscrawling1/result.csv\")"
   ]
  },
  {
   "cell_type": "code",
   "execution_count": 178,
   "metadata": {},
   "outputs": [
    {
     "data": {
      "text/html": [
       "<div>\n",
       "<style>\n",
       "    .dataframe thead tr:only-child th {\n",
       "        text-align: right;\n",
       "    }\n",
       "\n",
       "    .dataframe thead th {\n",
       "        text-align: left;\n",
       "    }\n",
       "\n",
       "    .dataframe tbody tr th {\n",
       "        vertical-align: top;\n",
       "    }\n",
       "</style>\n",
       "<table border=\"1\" class=\"dataframe\">\n",
       "  <thead>\n",
       "    <tr style=\"text-align: right;\">\n",
       "      <th></th>\n",
       "      <th>url</th>\n",
       "      <th>date</th>\n",
       "      <th>title</th>\n",
       "      <th>article</th>\n",
       "    </tr>\n",
       "  </thead>\n",
       "  <tbody>\n",
       "    <tr>\n",
       "      <th>555</th>\n",
       "      <td>http://news.hankyung.com/article/201508122585g</td>\n",
       "      <td>2015-08-14</td>\n",
       "      <td>홈쇼핑 이젠 홈쇼핑 아닌 '모바일쇼핑'?</td>\n",
       "      <td>홈쇼핑 3사의 모바일 판매가 크게 늘어나고 있다. 하지만 다른 채널 판매가 줄어들면...</td>\n",
       "    </tr>\n",
       "    <tr>\n",
       "      <th>554</th>\n",
       "      <td>http://news.hankyung.com/article/2015081609061</td>\n",
       "      <td>2015-08-17</td>\n",
       "      <td>사이판 크루즈 탈까…'아시아의 유럽' 블라디보스토크 갈까</td>\n",
       "      <td>여행박사()가 최근 2년간 여행박사 상품을 이용한 이들을 대상으로 ‘무상 차량점검’...</td>\n",
       "    </tr>\n",
       "    <tr>\n",
       "      <th>556</th>\n",
       "      <td>http://news.hankyung.com/article/2015081889701</td>\n",
       "      <td>2015-08-18</td>\n",
       "      <td>2년 새 10배 커진 T커머스 시장…신세계 등 대기업도 '눈독'</td>\n",
       "      <td>양방향 데이터방송을 이용해 TV를 보며 물건을 살 수 있는 T커머스 시장이 커지고 ...</td>\n",
       "    </tr>\n",
       "    <tr>\n",
       "      <th>546</th>\n",
       "      <td>http://stock.hankyung.com/news/app/newsview.ph...</td>\n",
       "      <td>2015-08-19</td>\n",
       "      <td>코스닥 '검은 수요일'… 중국 증시 충격으로 장중 6%대 폭락</td>\n",
       "      <td>코스닥시장이 오후 들어 낙폭을 확대해 6% 이상 폭락했다. 중국 증시 폭락 악재로 ...</td>\n",
       "    </tr>\n",
       "    <tr>\n",
       "      <th>563</th>\n",
       "      <td>http://stock.hankyung.com/news/app/newsview.ph...</td>\n",
       "      <td>2015-08-19</td>\n",
       "      <td>코스닥 중국發 공포에 '급락'…바이오·화장품주↓</td>\n",
       "      <td>코스닥시장이 중국발(發) 악재에 직격탄을 맞고 있다. 사흘째 하락세다.19일 오전 ...</td>\n",
       "    </tr>\n",
       "  </tbody>\n",
       "</table>\n",
       "</div>"
      ],
      "text/plain": [
       "                                                   url       date  \\\n",
       "555     http://news.hankyung.com/article/201508122585g 2015-08-14   \n",
       "554     http://news.hankyung.com/article/2015081609061 2015-08-17   \n",
       "556     http://news.hankyung.com/article/2015081889701 2015-08-18   \n",
       "546  http://stock.hankyung.com/news/app/newsview.ph... 2015-08-19   \n",
       "563  http://stock.hankyung.com/news/app/newsview.ph... 2015-08-19   \n",
       "\n",
       "                                   title  \\\n",
       "555               홈쇼핑 이젠 홈쇼핑 아닌 '모바일쇼핑'?   \n",
       "554      사이판 크루즈 탈까…'아시아의 유럽' 블라디보스토크 갈까   \n",
       "556  2년 새 10배 커진 T커머스 시장…신세계 등 대기업도 '눈독'   \n",
       "546   코스닥 '검은 수요일'… 중국 증시 충격으로 장중 6%대 폭락   \n",
       "563           코스닥 중국發 공포에 '급락'…바이오·화장품주↓   \n",
       "\n",
       "                                               article  \n",
       "555  홈쇼핑 3사의 모바일 판매가 크게 늘어나고 있다. 하지만 다른 채널 판매가 줄어들면...  \n",
       "554  여행박사()가 최근 2년간 여행박사 상품을 이용한 이들을 대상으로 ‘무상 차량점검’...  \n",
       "556  양방향 데이터방송을 이용해 TV를 보며 물건을 살 수 있는 T커머스 시장이 커지고 ...  \n",
       "546  코스닥시장이 오후 들어 낙폭을 확대해 6% 이상 폭락했다. 중국 증시 폭락 악재로 ...  \n",
       "563  코스닥시장이 중국발(發) 악재에 직격탄을 맞고 있다. 사흘째 하락세다.19일 오전 ...  "
      ]
     },
     "execution_count": 178,
     "metadata": {},
     "output_type": "execute_result"
    }
   ],
   "source": [
    "data.sort_values(by='date',ascending=True,inplace=True)\n",
    "date_converter=lambda x: datetime.strptime(str(x),\"%y-%m-%d\")\n",
    "data['date']=data['date'].apply(date_converter)\n",
    "data.head()"
   ]
  },
  {
   "cell_type": "code",
   "execution_count": null,
   "metadata": {
    "collapsed": true
   },
   "outputs": [],
   "source": []
  }
 ],
 "metadata": {
  "kernelspec": {
   "display_name": "Python 3",
   "language": "python",
   "name": "python3"
  },
  "language_info": {
   "codemirror_mode": {
    "name": "ipython",
    "version": 3
   },
   "file_extension": ".py",
   "mimetype": "text/x-python",
   "name": "python",
   "nbconvert_exporter": "python",
   "pygments_lexer": "ipython3",
   "version": "3.5.3"
  }
 },
 "nbformat": 4,
 "nbformat_minor": 2
}
